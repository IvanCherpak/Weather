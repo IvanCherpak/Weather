{
 "cells": [
  {
   "cell_type": "markdown",
   "id": "8c608f40",
   "metadata": {},
   "source": [
    "# Import libs"
   ]
  },
  {
   "cell_type": "code",
   "execution_count": 2,
   "id": "57e8a09b",
   "metadata": {},
   "outputs": [],
   "source": [
    "import pandas as pd\n",
    "import numpy as np\n",
    "import matplotlib.pyplot as plt\n",
    "import math\n",
    "\n",
    "import os\n",
    "import sys"
   ]
  },
  {
   "cell_type": "markdown",
   "id": "b805f3c2",
   "metadata": {},
   "source": [
    "# Check versions"
   ]
  },
  {
   "cell_type": "code",
   "execution_count": 2,
   "id": "3ae8c33d",
   "metadata": {},
   "outputs": [
    {
     "data": {
      "text/plain": [
       "'2.0.1'"
      ]
     },
     "execution_count": 2,
     "metadata": {},
     "output_type": "execute_result"
    }
   ],
   "source": [
    "pd.__version__"
   ]
  },
  {
   "cell_type": "code",
   "execution_count": 4,
   "id": "37504930",
   "metadata": {},
   "outputs": [
    {
     "data": {
      "text/plain": [
       "'1.21.5'"
      ]
     },
     "execution_count": 4,
     "metadata": {},
     "output_type": "execute_result"
    }
   ],
   "source": [
    "np.__version__"
   ]
  },
  {
   "cell_type": "code",
   "execution_count": 5,
   "id": "75f61cab",
   "metadata": {},
   "outputs": [
    {
     "data": {
      "text/plain": [
       "'3.5.1'"
      ]
     },
     "execution_count": 5,
     "metadata": {},
     "output_type": "execute_result"
    }
   ],
   "source": [
    "plt.__version__"
   ]
  },
  {
   "cell_type": "code",
   "execution_count": 10,
   "id": "f470f74c",
   "metadata": {},
   "outputs": [
    {
     "data": {
      "text/plain": [
       "'3.10.12 (main, Nov  6 2024, 20:22:13) [GCC 11.4.0]'"
      ]
     },
     "execution_count": 10,
     "metadata": {},
     "output_type": "execute_result"
    }
   ],
   "source": [
    "sys.version"
   ]
  },
  {
   "cell_type": "markdown",
   "id": "803127f2",
   "metadata": {},
   "source": [
    "# Reading file"
   ]
  },
  {
   "cell_type": "code",
   "execution_count": 3,
   "id": "d8c985bb",
   "metadata": {},
   "outputs": [],
   "source": [
    "raw_data = pd.read_csv('weather.csv',\n",
    "                       encoding=\"utf-8\",\n",
    "                       header=0,\n",
    "                       names=[\"day\", \"cloudiness\", \"fallout\", \"day_temperature\", \"night_temperature\",\n",
    "                              \"wind\", \"period\"])"
   ]
  },
  {
   "cell_type": "code",
   "execution_count": 4,
   "id": "86f09112",
   "metadata": {},
   "outputs": [
    {
     "name": "stdout",
     "output_type": "stream",
     "text": [
      "<class 'pandas.core.frame.DataFrame'>\n",
      "RangeIndex: 365 entries, 0 to 364\n",
      "Data columns (total 7 columns):\n",
      " #   Column             Non-Null Count  Dtype \n",
      "---  ------             --------------  ----- \n",
      " 0   day                365 non-null    int64 \n",
      " 1   cloudiness         365 non-null    object\n",
      " 2   fallout            365 non-null    object\n",
      " 3   day_temperature    365 non-null    object\n",
      " 4   night_temperature  365 non-null    object\n",
      " 5   wind               365 non-null    object\n",
      " 6   period             365 non-null    object\n",
      "dtypes: int64(1), object(6)\n",
      "memory usage: 20.1+ KB\n"
     ]
    }
   ],
   "source": [
    "raw_data.info()"
   ]
  },
  {
   "cell_type": "code",
   "execution_count": 5,
   "id": "0bb4ed91",
   "metadata": {},
   "outputs": [
    {
     "data": {
      "text/html": [
       "<div>\n",
       "<style scoped>\n",
       "    .dataframe tbody tr th:only-of-type {\n",
       "        vertical-align: middle;\n",
       "    }\n",
       "\n",
       "    .dataframe tbody tr th {\n",
       "        vertical-align: top;\n",
       "    }\n",
       "\n",
       "    .dataframe thead th {\n",
       "        text-align: right;\n",
       "    }\n",
       "</style>\n",
       "<table border=\"1\" class=\"dataframe\">\n",
       "  <thead>\n",
       "    <tr style=\"text-align: right;\">\n",
       "      <th></th>\n",
       "      <th>day</th>\n",
       "      <th>cloudiness</th>\n",
       "      <th>fallout</th>\n",
       "      <th>day_temperature</th>\n",
       "      <th>night_temperature</th>\n",
       "      <th>wind</th>\n",
       "      <th>period</th>\n",
       "    </tr>\n",
       "  </thead>\n",
       "  <tbody>\n",
       "    <tr>\n",
       "      <th>0</th>\n",
       "      <td>1</td>\n",
       "      <td>72%</td>\n",
       "      <td>-</td>\n",
       "      <td>13.5°C</td>\n",
       "      <td>6.0°C</td>\n",
       "      <td>4 м/с</td>\n",
       "      <td>2023-04</td>\n",
       "    </tr>\n",
       "    <tr>\n",
       "      <th>1</th>\n",
       "      <td>2</td>\n",
       "      <td>100%</td>\n",
       "      <td>1 м.м.</td>\n",
       "      <td>8.0°C</td>\n",
       "      <td>8.5°C</td>\n",
       "      <td>3 м/с</td>\n",
       "      <td>2023-04</td>\n",
       "    </tr>\n",
       "    <tr>\n",
       "      <th>2</th>\n",
       "      <td>3</td>\n",
       "      <td>100%</td>\n",
       "      <td>2 м.м.</td>\n",
       "      <td>6.0°C</td>\n",
       "      <td>6.0°C</td>\n",
       "      <td>4 м/с</td>\n",
       "      <td>2023-04</td>\n",
       "    </tr>\n",
       "    <tr>\n",
       "      <th>3</th>\n",
       "      <td>4</td>\n",
       "      <td>100%</td>\n",
       "      <td>-</td>\n",
       "      <td>5.0°C</td>\n",
       "      <td>2.0°C</td>\n",
       "      <td>3 м/с</td>\n",
       "      <td>2023-04</td>\n",
       "    </tr>\n",
       "    <tr>\n",
       "      <th>4</th>\n",
       "      <td>5</td>\n",
       "      <td>87%</td>\n",
       "      <td>4 м.м.</td>\n",
       "      <td>7.5°C</td>\n",
       "      <td>3.0°C</td>\n",
       "      <td>5 м/с</td>\n",
       "      <td>2023-04</td>\n",
       "    </tr>\n",
       "    <tr>\n",
       "      <th>5</th>\n",
       "      <td>6</td>\n",
       "      <td>95%</td>\n",
       "      <td>1 м.м.</td>\n",
       "      <td>10.5°C</td>\n",
       "      <td>9.0°C</td>\n",
       "      <td>5 м/с</td>\n",
       "      <td>2023-04</td>\n",
       "    </tr>\n",
       "    <tr>\n",
       "      <th>6</th>\n",
       "      <td>7</td>\n",
       "      <td>60%</td>\n",
       "      <td>-</td>\n",
       "      <td>11.5°C</td>\n",
       "      <td>4.5°C</td>\n",
       "      <td>2 м/с</td>\n",
       "      <td>2023-04</td>\n",
       "    </tr>\n",
       "    <tr>\n",
       "      <th>7</th>\n",
       "      <td>8</td>\n",
       "      <td>88%</td>\n",
       "      <td>1 м.м.</td>\n",
       "      <td>14.5°C</td>\n",
       "      <td>7.5°C</td>\n",
       "      <td>1 м/с</td>\n",
       "      <td>2023-04</td>\n",
       "    </tr>\n",
       "    <tr>\n",
       "      <th>8</th>\n",
       "      <td>9</td>\n",
       "      <td>58%</td>\n",
       "      <td>2 м.м.</td>\n",
       "      <td>14.0°C</td>\n",
       "      <td>8.0°C</td>\n",
       "      <td>3 м/с</td>\n",
       "      <td>2023-04</td>\n",
       "    </tr>\n",
       "    <tr>\n",
       "      <th>9</th>\n",
       "      <td>10</td>\n",
       "      <td>87%</td>\n",
       "      <td>2 м.м.</td>\n",
       "      <td>11.5°C</td>\n",
       "      <td>9.0°C</td>\n",
       "      <td>4 м/с</td>\n",
       "      <td>2023-04</td>\n",
       "    </tr>\n",
       "  </tbody>\n",
       "</table>\n",
       "</div>"
      ],
      "text/plain": [
       "   day cloudiness fallout day_temperature night_temperature   wind   period\n",
       "0    1        72%       -          13.5°C             6.0°C  4 м/с  2023-04\n",
       "1    2       100%  1 м.м.           8.0°C             8.5°C  3 м/с  2023-04\n",
       "2    3       100%  2 м.м.           6.0°C             6.0°C  4 м/с  2023-04\n",
       "3    4       100%       -           5.0°C             2.0°C  3 м/с  2023-04\n",
       "4    5        87%  4 м.м.           7.5°C             3.0°C  5 м/с  2023-04\n",
       "5    6        95%  1 м.м.          10.5°C             9.0°C  5 м/с  2023-04\n",
       "6    7        60%       -          11.5°C             4.5°C  2 м/с  2023-04\n",
       "7    8        88%  1 м.м.          14.5°C             7.5°C  1 м/с  2023-04\n",
       "8    9        58%  2 м.м.          14.0°C             8.0°C  3 м/с  2023-04\n",
       "9   10        87%  2 м.м.          11.5°C             9.0°C  4 м/с  2023-04"
      ]
     },
     "execution_count": 5,
     "metadata": {},
     "output_type": "execute_result"
    }
   ],
   "source": [
    "raw_data.head(10)"
   ]
  },
  {
   "cell_type": "markdown",
   "id": "72f8b48a",
   "metadata": {},
   "source": [
    "# Cleaning data"
   ]
  },
  {
   "cell_type": "code",
   "execution_count": 6,
   "id": "bc1a0fe2",
   "metadata": {},
   "outputs": [],
   "source": [
    "raw_data.cloudiness = raw_data.cloudiness.str.replace(\"%\", '').astype(\"float64\") / 100"
   ]
  },
  {
   "cell_type": "code",
   "execution_count": 7,
   "id": "f18ef755",
   "metadata": {},
   "outputs": [],
   "source": [
    "raw_data.fallout = raw_data.fallout.str.replace('-', '0')\n",
    "raw_data.fallout = raw_data.fallout.str.replace('м.м.', '')\n",
    "raw_data.fallout = raw_data.fallout.astype('int64')"
   ]
  },
  {
   "cell_type": "code",
   "execution_count": 8,
   "id": "9084b198",
   "metadata": {},
   "outputs": [],
   "source": [
    "raw_data.day_temperature = raw_data.day_temperature.str.replace(\"°C\", '').astype(\"float64\") \n",
    "raw_data.night_temperature = raw_data.night_temperature.str.replace(\"°C\", '').astype(\"float64\")"
   ]
  },
  {
   "cell_type": "code",
   "execution_count": 9,
   "id": "11bba9ef",
   "metadata": {},
   "outputs": [],
   "source": [
    "raw_data.wind = raw_data.wind.str.replace(\"м/с\", '').astype(\"float64\")"
   ]
  },
  {
   "cell_type": "markdown",
   "id": "10c54302",
   "metadata": {},
   "source": [
    "                Divide period column into year and month"
   ]
  },
  {
   "cell_type": "code",
   "execution_count": 10,
   "id": "6e2800a1",
   "metadata": {},
   "outputs": [],
   "source": [
    "raw_data['year'] = raw_data.period.str[0:4]\n",
    "raw_data.year = raw_data.year.astype(\"int64\")\n",
    "\n",
    "\n",
    "raw_data.period = raw_data.period.str.replace(r\"[\\d]{4}-\", '', regex=True)\n",
    "raw_data.period = raw_data.period.astype(\"int64\")\n"
   ]
  },
  {
   "cell_type": "code",
   "execution_count": 11,
   "id": "b3094985",
   "metadata": {},
   "outputs": [],
   "source": [
    "raw_data.rename( columns={\"period\": \"month\"}, inplace=True)"
   ]
  },
  {
   "cell_type": "code",
   "execution_count": 12,
   "id": "f6c1ba48",
   "metadata": {},
   "outputs": [
    {
     "data": {
      "text/html": [
       "<div>\n",
       "<style scoped>\n",
       "    .dataframe tbody tr th:only-of-type {\n",
       "        vertical-align: middle;\n",
       "    }\n",
       "\n",
       "    .dataframe tbody tr th {\n",
       "        vertical-align: top;\n",
       "    }\n",
       "\n",
       "    .dataframe thead th {\n",
       "        text-align: right;\n",
       "    }\n",
       "</style>\n",
       "<table border=\"1\" class=\"dataframe\">\n",
       "  <thead>\n",
       "    <tr style=\"text-align: right;\">\n",
       "      <th></th>\n",
       "      <th>day</th>\n",
       "      <th>cloudiness</th>\n",
       "      <th>fallout</th>\n",
       "      <th>day_temperature</th>\n",
       "      <th>night_temperature</th>\n",
       "      <th>wind</th>\n",
       "      <th>month</th>\n",
       "      <th>year</th>\n",
       "    </tr>\n",
       "  </thead>\n",
       "  <tbody>\n",
       "    <tr>\n",
       "      <th>0</th>\n",
       "      <td>1</td>\n",
       "      <td>0.72</td>\n",
       "      <td>0</td>\n",
       "      <td>13.5</td>\n",
       "      <td>6.0</td>\n",
       "      <td>4.0</td>\n",
       "      <td>4</td>\n",
       "      <td>2023</td>\n",
       "    </tr>\n",
       "    <tr>\n",
       "      <th>1</th>\n",
       "      <td>2</td>\n",
       "      <td>1.00</td>\n",
       "      <td>1</td>\n",
       "      <td>8.0</td>\n",
       "      <td>8.5</td>\n",
       "      <td>3.0</td>\n",
       "      <td>4</td>\n",
       "      <td>2023</td>\n",
       "    </tr>\n",
       "    <tr>\n",
       "      <th>2</th>\n",
       "      <td>3</td>\n",
       "      <td>1.00</td>\n",
       "      <td>2</td>\n",
       "      <td>6.0</td>\n",
       "      <td>6.0</td>\n",
       "      <td>4.0</td>\n",
       "      <td>4</td>\n",
       "      <td>2023</td>\n",
       "    </tr>\n",
       "    <tr>\n",
       "      <th>3</th>\n",
       "      <td>4</td>\n",
       "      <td>1.00</td>\n",
       "      <td>0</td>\n",
       "      <td>5.0</td>\n",
       "      <td>2.0</td>\n",
       "      <td>3.0</td>\n",
       "      <td>4</td>\n",
       "      <td>2023</td>\n",
       "    </tr>\n",
       "    <tr>\n",
       "      <th>4</th>\n",
       "      <td>5</td>\n",
       "      <td>0.87</td>\n",
       "      <td>4</td>\n",
       "      <td>7.5</td>\n",
       "      <td>3.0</td>\n",
       "      <td>5.0</td>\n",
       "      <td>4</td>\n",
       "      <td>2023</td>\n",
       "    </tr>\n",
       "    <tr>\n",
       "      <th>5</th>\n",
       "      <td>6</td>\n",
       "      <td>0.95</td>\n",
       "      <td>1</td>\n",
       "      <td>10.5</td>\n",
       "      <td>9.0</td>\n",
       "      <td>5.0</td>\n",
       "      <td>4</td>\n",
       "      <td>2023</td>\n",
       "    </tr>\n",
       "    <tr>\n",
       "      <th>6</th>\n",
       "      <td>7</td>\n",
       "      <td>0.60</td>\n",
       "      <td>0</td>\n",
       "      <td>11.5</td>\n",
       "      <td>4.5</td>\n",
       "      <td>2.0</td>\n",
       "      <td>4</td>\n",
       "      <td>2023</td>\n",
       "    </tr>\n",
       "    <tr>\n",
       "      <th>7</th>\n",
       "      <td>8</td>\n",
       "      <td>0.88</td>\n",
       "      <td>1</td>\n",
       "      <td>14.5</td>\n",
       "      <td>7.5</td>\n",
       "      <td>1.0</td>\n",
       "      <td>4</td>\n",
       "      <td>2023</td>\n",
       "    </tr>\n",
       "    <tr>\n",
       "      <th>8</th>\n",
       "      <td>9</td>\n",
       "      <td>0.58</td>\n",
       "      <td>2</td>\n",
       "      <td>14.0</td>\n",
       "      <td>8.0</td>\n",
       "      <td>3.0</td>\n",
       "      <td>4</td>\n",
       "      <td>2023</td>\n",
       "    </tr>\n",
       "    <tr>\n",
       "      <th>9</th>\n",
       "      <td>10</td>\n",
       "      <td>0.87</td>\n",
       "      <td>2</td>\n",
       "      <td>11.5</td>\n",
       "      <td>9.0</td>\n",
       "      <td>4.0</td>\n",
       "      <td>4</td>\n",
       "      <td>2023</td>\n",
       "    </tr>\n",
       "  </tbody>\n",
       "</table>\n",
       "</div>"
      ],
      "text/plain": [
       "   day  cloudiness  fallout  day_temperature  night_temperature  wind  month   \n",
       "0    1        0.72        0             13.5                6.0   4.0      4  \\\n",
       "1    2        1.00        1              8.0                8.5   3.0      4   \n",
       "2    3        1.00        2              6.0                6.0   4.0      4   \n",
       "3    4        1.00        0              5.0                2.0   3.0      4   \n",
       "4    5        0.87        4              7.5                3.0   5.0      4   \n",
       "5    6        0.95        1             10.5                9.0   5.0      4   \n",
       "6    7        0.60        0             11.5                4.5   2.0      4   \n",
       "7    8        0.88        1             14.5                7.5   1.0      4   \n",
       "8    9        0.58        2             14.0                8.0   3.0      4   \n",
       "9   10        0.87        2             11.5                9.0   4.0      4   \n",
       "\n",
       "   year  \n",
       "0  2023  \n",
       "1  2023  \n",
       "2  2023  \n",
       "3  2023  \n",
       "4  2023  \n",
       "5  2023  \n",
       "6  2023  \n",
       "7  2023  \n",
       "8  2023  \n",
       "9  2023  "
      ]
     },
     "execution_count": 12,
     "metadata": {},
     "output_type": "execute_result"
    }
   ],
   "source": [
    "raw_data.head(10)"
   ]
  },
  {
   "cell_type": "markdown",
   "id": "c456869d",
   "metadata": {},
   "source": [
    "# Analysis"
   ]
  },
  {
   "cell_type": "markdown",
   "id": "47245503",
   "metadata": {},
   "source": [
    "## Graph by month"
   ]
  },
  {
   "cell_type": "code",
   "execution_count": 184,
   "id": "4ba937fb",
   "metadata": {},
   "outputs": [],
   "source": [
    "p = 7 #period\n",
    "\n",
    "data = raw_data[ raw_data.month == p]"
   ]
  },
  {
   "cell_type": "code",
   "execution_count": 191,
   "id": "95cf855e",
   "metadata": {},
   "outputs": [
    {
     "data": {
      "image/png": "[encoded data removed]",
      "text/plain": [
       "<Figure size 432x288 with 4 Axes>"
      ]
     },
     "metadata": {
      "needs_background": "light"
     },
     "output_type": "display_data"
    }
   ],
   "source": [
    "plt.subplot(2, 2, 1)\n",
    "plt.plot(data.day_temperature.array, \"black\")\n",
    "plt.title(f\"Daily temperature. Month: {p}\")\n",
    "plt.subplots_adjust(hspace=1)\n",
    "\n",
    "plt.subplot(2, 2, 2)\n",
    "plt.plot(data.night_temperature.array, \"green\")\n",
    "plt.title(f\"Night temperature. Month: {p}\")\n",
    "plt.subplots_adjust(hspace=1)\n",
    "\n",
    "plt.subplot(2, 2, 3)\n",
    "plt.plot(data.cloudiness.array, \"magenta\")\n",
    "plt.title(f\"Cloudiness. Month: {p}\")\n",
    "plt.subplots_adjust(hspace=1)\n",
    "\n",
    "plt.subplot(2, 2, 4)\n",
    "plt.plot(data.wind.array, 'r')\n",
    "plt.title(f\"Windiness . Month: {p}\")\n",
    "plt.subplots_adjust(hspace=1)\n"
   ]
  },
  {
   "cell_type": "markdown",
   "id": "b67baeda",
   "metadata": {},
   "source": [
    "## Daily temperature by period (area depends on fallout)"
   ]
  },
  {
   "cell_type": "code",
   "execution_count": 187,
   "id": "dfd25fe6",
   "metadata": {},
   "outputs": [],
   "source": [
    "Period = 10"
   ]
  },
  {
   "cell_type": "code",
   "execution_count": null,
   "id": "765a4419",
   "metadata": {},
   "outputs": [],
   "source": [
    "data = raw_data[ raw_data.month == Period]"
   ]
  },
  {
   "cell_type": "code",
   "execution_count": 292,
   "id": "b1f11e4e",
   "metadata": {},
   "outputs": [
    {
     "data": {
      "text/plain": [
       "<matplotlib.collections.PathCollection at 0x7fdd5795fe50>"
      ]
     },
     "execution_count": 292,
     "metadata": {},
     "output_type": "execute_result"
    },
    {
     "data": {
      "image/png": "[encoded data removed]",
      "text/plain": [
       "<Figure size 432x288 with 1 Axes>"
      ]
     },
     "metadata": {
      "needs_background": "light"
     },
     "output_type": "display_data"
    }
   ],
   "source": [
    "plt.scatter( x=data.day.array,\n",
    "             y=data.day_temperature.array,\n",
    "             s=(100*data.fallout+60).array, #size of bubble\n",
    "             c=(data.day_temperature*2).array, #color of bubble\n",
    "             cmap=\"turbo\" #color scheme\n",
    "           )"
   ]
  },
  {
   "cell_type": "markdown",
   "id": "b85c2277",
   "metadata": {},
   "source": [
    "## Mean temperature difference by month"
   ]
  },
  {
   "cell_type": "code",
   "execution_count": 42,
   "id": "de8e6772",
   "metadata": {},
   "outputs": [],
   "source": [
    "diff = pd.DataFrame( np.array([abs(raw_data.day_temperature-raw_data.night_temperature), raw_data.month])).T\n",
    "diff.rename( columns={0: \"diff\", 1: \"month\"}, inplace=True)"
   ]
  },
  {
   "cell_type": "code",
   "execution_count": 43,
   "id": "ccf4752f",
   "metadata": {
    "scrolled": false
   },
   "outputs": [
    {
     "data": {
      "text/html": [
       "<div>\n",
       "<style scoped>\n",
       "    .dataframe tbody tr th:only-of-type {\n",
       "        vertical-align: middle;\n",
       "    }\n",
       "\n",
       "    .dataframe tbody tr th {\n",
       "        vertical-align: top;\n",
       "    }\n",
       "\n",
       "    .dataframe thead th {\n",
       "        text-align: right;\n",
       "    }\n",
       "</style>\n",
       "<table border=\"1\" class=\"dataframe\">\n",
       "  <thead>\n",
       "    <tr style=\"text-align: right;\">\n",
       "      <th></th>\n",
       "      <th>diff</th>\n",
       "    </tr>\n",
       "    <tr>\n",
       "      <th>month</th>\n",
       "      <th></th>\n",
       "    </tr>\n",
       "  </thead>\n",
       "  <tbody>\n",
       "    <tr>\n",
       "      <th>1.0</th>\n",
       "      <td>2.887097</td>\n",
       "    </tr>\n",
       "    <tr>\n",
       "      <th>2.0</th>\n",
       "      <td>3.125000</td>\n",
       "    </tr>\n",
       "    <tr>\n",
       "      <th>3.0</th>\n",
       "      <td>4.854839</td>\n",
       "    </tr>\n",
       "    <tr>\n",
       "      <th>4.0</th>\n",
       "      <td>4.416667</td>\n",
       "    </tr>\n",
       "    <tr>\n",
       "      <th>5.0</th>\n",
       "      <td>7.451613</td>\n",
       "    </tr>\n",
       "    <tr>\n",
       "      <th>6.0</th>\n",
       "      <td>8.316667</td>\n",
       "    </tr>\n",
       "    <tr>\n",
       "      <th>7.0</th>\n",
       "      <td>8.693548</td>\n",
       "    </tr>\n",
       "    <tr>\n",
       "      <th>8.0</th>\n",
       "      <td>9.467742</td>\n",
       "    </tr>\n",
       "    <tr>\n",
       "      <th>9.0</th>\n",
       "      <td>5.416667</td>\n",
       "    </tr>\n",
       "    <tr>\n",
       "      <th>10.0</th>\n",
       "      <td>5.177419</td>\n",
       "    </tr>\n",
       "    <tr>\n",
       "      <th>11.0</th>\n",
       "      <td>3.200000</td>\n",
       "    </tr>\n",
       "    <tr>\n",
       "      <th>12.0</th>\n",
       "      <td>2.725806</td>\n",
       "    </tr>\n",
       "  </tbody>\n",
       "</table>\n",
       "</div>"
      ],
      "text/plain": [
       "           diff\n",
       "month          \n",
       "1.0    2.887097\n",
       "2.0    3.125000\n",
       "3.0    4.854839\n",
       "4.0    4.416667\n",
       "5.0    7.451613\n",
       "6.0    8.316667\n",
       "7.0    8.693548\n",
       "8.0    9.467742\n",
       "9.0    5.416667\n",
       "10.0   5.177419\n",
       "11.0   3.200000\n",
       "12.0   2.725806"
      ]
     },
     "execution_count": 43,
     "metadata": {},
     "output_type": "execute_result"
    }
   ],
   "source": [
    "diff.groupby(\"month\").mean()"
   ]
  },
  {
   "cell_type": "markdown",
   "id": "6abbf081",
   "metadata": {},
   "source": [
    "## Day when difference between temperatures is maximal"
   ]
  },
  {
   "cell_type": "code",
   "execution_count": 41,
   "id": "5616f390",
   "metadata": {},
   "outputs": [
    {
     "data": {
      "text/html": [
       "<div>\n",
       "<style scoped>\n",
       "    .dataframe tbody tr th:only-of-type {\n",
       "        vertical-align: middle;\n",
       "    }\n",
       "\n",
       "    .dataframe tbody tr th {\n",
       "        vertical-align: top;\n",
       "    }\n",
       "\n",
       "    .dataframe thead th {\n",
       "        text-align: right;\n",
       "    }\n",
       "</style>\n",
       "<table border=\"1\" class=\"dataframe\">\n",
       "  <thead>\n",
       "    <tr style=\"text-align: right;\">\n",
       "      <th></th>\n",
       "      <th>day</th>\n",
       "      <th>cloudiness</th>\n",
       "      <th>fallout</th>\n",
       "      <th>day_temperature</th>\n",
       "      <th>night_temperature</th>\n",
       "      <th>wind</th>\n",
       "      <th>month</th>\n",
       "      <th>year</th>\n",
       "    </tr>\n",
       "  </thead>\n",
       "  <tbody>\n",
       "    <tr>\n",
       "      <th>267</th>\n",
       "      <td>26</td>\n",
       "      <td>0.09</td>\n",
       "      <td>0</td>\n",
       "      <td>36.5</td>\n",
       "      <td>20.5</td>\n",
       "      <td>4.0</td>\n",
       "      <td>8</td>\n",
       "      <td>2022</td>\n",
       "    </tr>\n",
       "    <tr>\n",
       "      <th>269</th>\n",
       "      <td>28</td>\n",
       "      <td>0.06</td>\n",
       "      <td>0</td>\n",
       "      <td>35.5</td>\n",
       "      <td>20.0</td>\n",
       "      <td>2.0</td>\n",
       "      <td>8</td>\n",
       "      <td>2022</td>\n",
       "    </tr>\n",
       "    <tr>\n",
       "      <th>270</th>\n",
       "      <td>29</td>\n",
       "      <td>0.29</td>\n",
       "      <td>0</td>\n",
       "      <td>33.5</td>\n",
       "      <td>18.0</td>\n",
       "      <td>3.0</td>\n",
       "      <td>8</td>\n",
       "      <td>2022</td>\n",
       "    </tr>\n",
       "    <tr>\n",
       "      <th>345</th>\n",
       "      <td>12</td>\n",
       "      <td>0.36</td>\n",
       "      <td>0</td>\n",
       "      <td>27.0</td>\n",
       "      <td>12.0</td>\n",
       "      <td>6.0</td>\n",
       "      <td>5</td>\n",
       "      <td>2022</td>\n",
       "    </tr>\n",
       "    <tr>\n",
       "      <th>259</th>\n",
       "      <td>18</td>\n",
       "      <td>0.14</td>\n",
       "      <td>0</td>\n",
       "      <td>33.0</td>\n",
       "      <td>18.5</td>\n",
       "      <td>4.0</td>\n",
       "      <td>8</td>\n",
       "      <td>2022</td>\n",
       "    </tr>\n",
       "  </tbody>\n",
       "</table>\n",
       "</div>"
      ],
      "text/plain": [
       "     day  cloudiness  fallout  day_temperature  night_temperature  wind   \n",
       "267   26        0.09        0             36.5               20.5   4.0  \\\n",
       "269   28        0.06        0             35.5               20.0   2.0   \n",
       "270   29        0.29        0             33.5               18.0   3.0   \n",
       "345   12        0.36        0             27.0               12.0   6.0   \n",
       "259   18        0.14        0             33.0               18.5   4.0   \n",
       "\n",
       "     month  year  \n",
       "267      8  2022  \n",
       "269      8  2022  \n",
       "270      8  2022  \n",
       "345      5  2022  \n",
       "259      8  2022  "
      ]
     },
     "execution_count": 41,
     "metadata": {},
     "output_type": "execute_result"
    }
   ],
   "source": [
    "diff = abs( raw_data.day_temperature - raw_data.night_temperature).nlargest( keep=\"all\")\n",
    "raw_data.loc[diff.index, :]"
   ]
  },
  {
   "cell_type": "markdown",
   "id": "2fec74fd",
   "metadata": {},
   "source": [
    "## 4 most windy days in a month"
   ]
  },
  {
   "cell_type": "code",
   "execution_count": 39,
   "id": "eb226598",
   "metadata": {},
   "outputs": [],
   "source": [
    "period = 4"
   ]
  },
  {
   "cell_type": "code",
   "execution_count": 40,
   "id": "25edb7fb",
   "metadata": {
    "scrolled": true
   },
   "outputs": [
    {
     "data": {
      "text/plain": [
       "14    6.0\n",
       "4     5.0\n",
       "5     5.0\n",
       "19    5.0\n",
       "27    5.0\n",
       "Name: wind, dtype: float64"
      ]
     },
     "execution_count": 40,
     "metadata": {},
     "output_type": "execute_result"
    }
   ],
   "source": [
    "raw_data[ raw_data.month == period].wind.nlargest(4, keep=\"all\")"
   ]
  },
  {
   "cell_type": "markdown",
   "id": "8a06ba9d",
   "metadata": {},
   "source": [
    "## Pie chart of rainy days by month"
   ]
  },
  {
   "cell_type": "code",
   "execution_count": 48,
   "id": "108e6610",
   "metadata": {},
   "outputs": [],
   "source": [
    "fall_by_month = raw_data[ raw_data.fallout > 0][[\"fallout\", \"month\"]].groupby(\"month\").agg(\"count\")"
   ]
  },
  {
   "cell_type": "code",
   "execution_count": 49,
   "id": "2748cd85",
   "metadata": {},
   "outputs": [],
   "source": [
    "total = sum(fall_by_month.fallout)"
   ]
  },
  {
   "cell_type": "code",
   "execution_count": 50,
   "id": "07428005",
   "metadata": {},
   "outputs": [
    {
     "data": {
      "text/plain": [
       "<AxesSubplot:>"
      ]
     },
     "execution_count": 50,
     "metadata": {},
     "output_type": "execute_result"
    },
    {
     "data": {
      "image/png": "[encoded data removed]",
      "text/plain": [
       "<Figure size 432x288 with 1 Axes>"
      ]
     },
     "metadata": {},
     "output_type": "display_data"
    }
   ],
   "source": [
    "fall_by_month.plot.pie( y=\"fallout\",\n",
    "                        ylabel='',\n",
    "                        labels=[\"Jan\", \"Feb\", \"Mar\", \"Apr\", \"May\", \"Jun\", \"Jul\", \"Aug\", \"Sep\", \"Oct\", \"Nov\", \"Dec\"],\n",
    "                        autopct= lambda x: f\"{x*total/100:.0f}\", #convert % into count\n",
    "                        explode = [0.1 for _ in fall_by_month.index],\n",
    "                        legend=False)"
   ]
  },
  {
   "cell_type": "markdown",
   "id": "a13a9348",
   "metadata": {},
   "source": [
    "## Count days of all type per month"
   ]
  },
  {
   "cell_type": "markdown",
   "id": "5718001c",
   "metadata": {},
   "source": [
    "####\n",
    "####     Cloudiness > 0.7 ==> Cloudy day\n",
    "####     0.35 =< Cloudiness =< 0.7 ==> Overcast day\n",
    "####     Cloudiness < 0.35 ==> Clear day"
   ]
  },
  {
   "cell_type": "code",
   "execution_count": 26,
   "id": "97e25feb",
   "metadata": {},
   "outputs": [],
   "source": [
    "D = raw_data.copy()"
   ]
  },
  {
   "cell_type": "code",
   "execution_count": 34,
   "id": "e9933b11",
   "metadata": {},
   "outputs": [],
   "source": [
    "D[\"day_type\"] = \"Overcast\"\n",
    "\n",
    "D.loc[D[ D.cloudiness > 0.7].index, \"day_type\"] = 'Cloudy'\n",
    "D.loc[D[ D.cloudiness < 0.35].index, \"day_type\"] = \"Clear\""
   ]
  },
  {
   "cell_type": "code",
   "execution_count": 35,
   "id": "4f67e8e7",
   "metadata": {},
   "outputs": [],
   "source": [
    "res = D.groupby([\"month\", \"day_type\"]).size().unstack()"
   ]
  },
  {
   "cell_type": "code",
   "execution_count": 36,
   "id": "28af54a4",
   "metadata": {},
   "outputs": [
    {
     "data": {
      "text/html": [
       "<div>\n",
       "<style scoped>\n",
       "    .dataframe tbody tr th:only-of-type {\n",
       "        vertical-align: middle;\n",
       "    }\n",
       "\n",
       "    .dataframe tbody tr th {\n",
       "        vertical-align: top;\n",
       "    }\n",
       "\n",
       "    .dataframe thead th {\n",
       "        text-align: right;\n",
       "    }\n",
       "</style>\n",
       "<table border=\"1\" class=\"dataframe\">\n",
       "  <thead>\n",
       "    <tr style=\"text-align: right;\">\n",
       "      <th>day_type</th>\n",
       "      <th>Clear</th>\n",
       "      <th>Cloudy</th>\n",
       "      <th>Overcast</th>\n",
       "    </tr>\n",
       "    <tr>\n",
       "      <th>month</th>\n",
       "      <th></th>\n",
       "      <th></th>\n",
       "      <th></th>\n",
       "    </tr>\n",
       "  </thead>\n",
       "  <tbody>\n",
       "    <tr>\n",
       "      <th>1</th>\n",
       "      <td>9</td>\n",
       "      <td>13</td>\n",
       "      <td>9</td>\n",
       "    </tr>\n",
       "    <tr>\n",
       "      <th>2</th>\n",
       "      <td>4</td>\n",
       "      <td>18</td>\n",
       "      <td>6</td>\n",
       "    </tr>\n",
       "    <tr>\n",
       "      <th>3</th>\n",
       "      <td>3</td>\n",
       "      <td>14</td>\n",
       "      <td>14</td>\n",
       "    </tr>\n",
       "    <tr>\n",
       "      <th>4</th>\n",
       "      <td>4</td>\n",
       "      <td>18</td>\n",
       "      <td>8</td>\n",
       "    </tr>\n",
       "    <tr>\n",
       "      <th>5</th>\n",
       "      <td>13</td>\n",
       "      <td>4</td>\n",
       "      <td>14</td>\n",
       "    </tr>\n",
       "    <tr>\n",
       "      <th>6</th>\n",
       "      <td>18</td>\n",
       "      <td>1</td>\n",
       "      <td>11</td>\n",
       "    </tr>\n",
       "    <tr>\n",
       "      <th>7</th>\n",
       "      <td>16</td>\n",
       "      <td>2</td>\n",
       "      <td>13</td>\n",
       "    </tr>\n",
       "    <tr>\n",
       "      <th>8</th>\n",
       "      <td>16</td>\n",
       "      <td>4</td>\n",
       "      <td>11</td>\n",
       "    </tr>\n",
       "    <tr>\n",
       "      <th>9</th>\n",
       "      <td>6</td>\n",
       "      <td>14</td>\n",
       "      <td>10</td>\n",
       "    </tr>\n",
       "    <tr>\n",
       "      <th>10</th>\n",
       "      <td>13</td>\n",
       "      <td>10</td>\n",
       "      <td>8</td>\n",
       "    </tr>\n",
       "    <tr>\n",
       "      <th>11</th>\n",
       "      <td>6</td>\n",
       "      <td>15</td>\n",
       "      <td>9</td>\n",
       "    </tr>\n",
       "    <tr>\n",
       "      <th>12</th>\n",
       "      <td>5</td>\n",
       "      <td>18</td>\n",
       "      <td>8</td>\n",
       "    </tr>\n",
       "  </tbody>\n",
       "</table>\n",
       "</div>"
      ],
      "text/plain": [
       "day_type  Clear  Cloudy  Overcast\n",
       "month                            \n",
       "1             9      13         9\n",
       "2             4      18         6\n",
       "3             3      14        14\n",
       "4             4      18         8\n",
       "5            13       4        14\n",
       "6            18       1        11\n",
       "7            16       2        13\n",
       "8            16       4        11\n",
       "9             6      14        10\n",
       "10           13      10         8\n",
       "11            6      15         9\n",
       "12            5      18         8"
      ]
     },
     "execution_count": 36,
     "metadata": {},
     "output_type": "execute_result"
    }
   ],
   "source": [
    "res"
   ]
  },
  {
   "cell_type": "code",
   "execution_count": 37,
   "id": "b3c2f77d",
   "metadata": {},
   "outputs": [
    {
     "data": {
      "text/plain": [
       "<matplotlib.legend.Legend at 0x7fc4d7e7d8d0>"
      ]
     },
     "execution_count": 37,
     "metadata": {},
     "output_type": "execute_result"
    },
    {
     "data": {
      "image/png": "[encoded data removed]",
      "text/plain": [
       "<Figure size 432x288 with 1 Axes>"
      ]
     },
     "metadata": {
      "needs_background": "light"
     },
     "output_type": "display_data"
    }
   ],
   "source": [
    "res.plot.barh(y=[\"Cloudy\", \"Overcast\", \"Clear\"], stacked=True)\n",
    "\n",
    "\n",
    "plt.gca().legend( loc=\"upper right\",\n",
    "                  bbox_to_anchor=(1.3, 1.0))"
   ]
  },
  {
   "cell_type": "markdown",
   "id": "9b5c019a",
   "metadata": {},
   "source": [
    "### All months where there were more sunny days than rainy ones"
   ]
  },
  {
   "cell_type": "code",
   "execution_count": 29,
   "id": "130940f8",
   "metadata": {},
   "outputs": [],
   "source": [
    "fall_by_month = raw_data[ raw_data.fallout > 0][[\"fallout\", \"month\"]].groupby(\"month\").agg(\"count\")"
   ]
  },
  {
   "cell_type": "code",
   "execution_count": 30,
   "id": "5807dc2b",
   "metadata": {},
   "outputs": [],
   "source": [
    "day_types_by_month = D.groupby([\"month\", \"day_type\"]).size().unstack()"
   ]
  },
  {
   "cell_type": "code",
   "execution_count": 31,
   "id": "28756ba6",
   "metadata": {},
   "outputs": [
    {
     "data": {
      "text/plain": [
       "<PandasArray>\n",
       "[1, 5, 6, 7, 8, 10]\n",
       "Length: 6, dtype: int64"
      ]
     },
     "execution_count": 31,
     "metadata": {},
     "output_type": "execute_result"
    }
   ],
   "source": [
    "fall_by_month[ day_types_by_month[\"Clear\"] > fall_by_month.fallout].index.array"
   ]
  },
  {
   "cell_type": "markdown",
   "id": "e1b4f4cb",
   "metadata": {},
   "source": [
    "## Histogram of difference between nightly and daily temperatures"
   ]
  },
  {
   "cell_type": "code",
   "execution_count": 46,
   "id": "eede2e4b",
   "metadata": {},
   "outputs": [
    {
     "data": {
      "text/plain": [
       "<AxesSubplot:ylabel='Frequency'>"
      ]
     },
     "execution_count": 46,
     "metadata": {},
     "output_type": "execute_result"
    },
    {
     "data": {
      "image/png": "[encoded data removed]",
      "text/plain": [
       "<Figure size 432x288 with 1 Axes>"
      ]
     },
     "metadata": {
      "needs_background": "light"
     },
     "output_type": "display_data"
    }
   ],
   "source": [
    "abs(raw_data.day_temperature - raw_data.night_temperature).plot.hist( bins=20,\n",
    "                                                                      edgecolor='grey',\n",
    "                                                                      color=\"orange\",\n",
    "                                                                     )"
   ]
  }
 ],
 "metadata": {
  "kernelspec": {
   "display_name": "Python 3 (ipykernel)",
   "language": "python",
   "name": "python3"
  },
  "language_info": {
   "codemirror_mode": {
    "name": "ipython",
    "version": 3
   },
   "file_extension": ".py",
   "mimetype": "text/x-python",
   "name": "python",
   "nbconvert_exporter": "python",
   "pygments_lexer": "ipython3",
   "version": "3.10.12"
  }
 },
 "nbformat": 4,
 "nbformat_minor": 5
}
